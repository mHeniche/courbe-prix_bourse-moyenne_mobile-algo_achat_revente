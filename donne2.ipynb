{
 "cells": [
  {
   "cell_type": "code",
   "execution_count": 1,
   "metadata": {},
   "outputs": [],
   "source": [
    "import requests\n",
    "import urllib.request\n",
    "import time\n",
    "import csv\n",
    "import datetime"
   ]
  },
  {
   "cell_type": "code",
   "execution_count": 10,
   "metadata": {},
   "outputs": [
    {
     "name": "stdout",
     "output_type": "stream",
     "text": [
      "Prix BTC: 21215.02 euros.\n"
     ]
    }
   ],
   "source": [
    "url = \"https://min-api.cryptocompare.com/data/price?fsym=BTC&tsyms=EUR\"\n",
    "\n",
    "prix = (requests.get(url).json())['EUR']\n",
    "print(f\"Prix BTC: {prix} euros.\")\n",
    "\n",
    "for i in range (60): # Nombre de réitérations voulues : 60\n",
    "    \n",
    "    time.sleep(10)  # Script se lance chaque 10 secondes\n",
    "\n",
    "    prix = (requests.get(url).json())['EUR']\n",
    "\n",
    "    now = datetime.datetime.now()\n",
    "    time_now = (now.strftime(\"%d-%m %H:%M:%S\"))\n",
    "\n",
    "    def moyenne_mobile_calcul():\n",
    "\n",
    "        del y_values[:]\n",
    "\n",
    "    with open('data.csv','r') as csvfile:\n",
    "        \n",
    "        N = 3\n",
    "        y_values = []\n",
    "        y_values_moving_avg = []\n",
    "        tableau = csv.reader(csvfile, delimiter='/')\n",
    "\n",
    "        for column in tableau:\n",
    "            y_values.append(float(column[0]))\n",
    "\n",
    "        if len(y_values) <= N-1:\n",
    "            with open (\"data.csv\", \"a\") as data_sheet:\n",
    "                data_sheet.write(str(prix) + \" / \" + time_now + \" / \" + str(prix) + \"\\n\")\n",
    "\n",
    "        elif len(y_values) >= N:\n",
    "            y_values_moving_avg = sum(y_values[-N:])/N\n",
    "\n",
    "            with open (\"data.csv\", \"a\") as data_sheet:\n",
    "                data_sheet.write(str(prix) + \" / \" + time_now + \" / \" + str(y_values_moving_avg) + \"\\n\")\n",
    "        \n"
   ]
  }
 ],
 "metadata": {
  "kernelspec": {
   "display_name": "Python 3",
   "language": "python",
   "name": "python3"
  },
  "language_info": {
   "codemirror_mode": {
    "name": "ipython",
    "version": 3
   },
   "file_extension": ".py",
   "mimetype": "text/x-python",
   "name": "python",
   "nbconvert_exporter": "python",
   "pygments_lexer": "ipython3",
   "version": "3.10.9"
  },
  "orig_nbformat": 4,
  "vscode": {
   "interpreter": {
    "hash": "a14db1d69c7e70e089b76d855abfa009f515b4bbcc25843692c52e93cf7da3cd"
   }
  }
 },
 "nbformat": 4,
 "nbformat_minor": 2
}
